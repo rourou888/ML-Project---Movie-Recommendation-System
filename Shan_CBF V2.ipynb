{
 "cells": [
  {
   "cell_type": "code",
   "execution_count": 1,
   "id": "a6c633be-371a-4fa8-9093-f741c6cd4aba",
   "metadata": {},
   "outputs": [],
   "source": [
    "import pandas as pd\n",
    "import numpy as np\n",
    "import matplotlib.pyplot as plt\n",
    "from sklearn.feature_extraction.text import TfidfVectorizer\n",
    "from sklearn.metrics.pairwise import cosine_similarity\n",
    "from sklearn.preprocessing import StandardScaler, OneHotEncoder\n",
    "from sklearn.pipeline import Pipeline\n",
    "from sklearn.neighbors import NearestNeighbors\n",
    "from sklearn.ensemble import RandomForestClassifier\n",
    "from sklearn.model_selection import train_test_split\n",
    "from sklearn.metrics import accuracy_score\n",
    "from sklearn.ensemble import RandomForestRegressor\n",
    "from sklearn.linear_model import LinearRegression\n",
    "from sklearn.metrics import mean_absolute_error\n",
    "from sklearn.preprocessing import LabelEncoder\n",
    "from sklearn.metrics import classification_report\n",
    "from sklearn.ensemble import GradientBoostingRegressor\n",
    "from sklearn.cluster import KMeans\n",
    "from sklearn.compose import ColumnTransformer\n",
    "from sklearn.metrics import mean_squared_error, mean_absolute_error, r2_score"
   ]
  },
  {
   "cell_type": "code",
   "execution_count": 2,
   "id": "d5ab3c67-1c45-4a4e-b6b1-f3fcc2bcafb4",
   "metadata": {},
   "outputs": [
    {
     "name": "stdout",
     "output_type": "stream",
     "text": [
      "<class 'pandas.core.frame.DataFrame'>\n",
      "RangeIndex: 2648 entries, 0 to 2647\n",
      "Data columns (total 19 columns):\n",
      " #   Column                Non-Null Count  Dtype  \n",
      "---  ------                --------------  -----  \n",
      " 0   budget                2648 non-null   int64  \n",
      " 1   keywords              2546 non-null   object \n",
      " 2   overview              2648 non-null   object \n",
      " 3   popularity            2648 non-null   float64\n",
      " 4   production_companies  2588 non-null   object \n",
      " 5   production_countries  2624 non-null   object \n",
      " 6   release_date          2648 non-null   object \n",
      " 7   revenue               2648 non-null   int64  \n",
      " 8   runtime               2648 non-null   float64\n",
      " 9   status                2648 non-null   object \n",
      " 10  tagline               2394 non-null   object \n",
      " 11  title                 2648 non-null   object \n",
      " 12  vote_average          2648 non-null   float64\n",
      " 13  vote_count            2648 non-null   int64  \n",
      " 14  movie_id              2648 non-null   float64\n",
      " 15  cast_names            2643 non-null   object \n",
      " 16  crew_names            2642 non-null   object \n",
      " 17  genres                2648 non-null   object \n",
      " 18  language              2645 non-null   object \n",
      "dtypes: float64(4), int64(3), object(12)\n",
      "memory usage: 393.2+ KB\n"
     ]
    }
   ],
   "source": [
    "movies=pd.read_csv('merged_movie.csv')\n",
    "movies.info()"
   ]
  },
  {
   "cell_type": "markdown",
   "id": "06fb69d9-0b64-4668-ba07-4d688aaf382b",
   "metadata": {},
   "source": [
    "# unsupervised-learning recommendation"
   ]
  },
  {
   "cell_type": "code",
   "execution_count": 3,
   "id": "03c09307-2602-4405-b32e-a0e3d83103c7",
   "metadata": {},
   "outputs": [
    {
     "data": {
      "text/html": [
       "<div>\n",
       "<style scoped>\n",
       "    .dataframe tbody tr th:only-of-type {\n",
       "        vertical-align: middle;\n",
       "    }\n",
       "\n",
       "    .dataframe tbody tr th {\n",
       "        vertical-align: top;\n",
       "    }\n",
       "\n",
       "    .dataframe thead th {\n",
       "        text-align: right;\n",
       "    }\n",
       "</style>\n",
       "<table border=\"1\" class=\"dataframe\">\n",
       "  <thead>\n",
       "    <tr style=\"text-align: right;\">\n",
       "      <th></th>\n",
       "      <th>Title</th>\n",
       "      <th>Similarity Score</th>\n",
       "    </tr>\n",
       "  </thead>\n",
       "  <tbody>\n",
       "    <tr>\n",
       "      <th>2023</th>\n",
       "      <td>Alien</td>\n",
       "      <td>0.141062</td>\n",
       "    </tr>\n",
       "    <tr>\n",
       "      <th>2520</th>\n",
       "      <td>Silent Running</td>\n",
       "      <td>0.138600</td>\n",
       "    </tr>\n",
       "    <tr>\n",
       "      <th>218</th>\n",
       "      <td>Planet of the Apes</td>\n",
       "      <td>0.137064</td>\n",
       "    </tr>\n",
       "    <tr>\n",
       "      <th>1603</th>\n",
       "      <td>Aliens</td>\n",
       "      <td>0.136016</td>\n",
       "    </tr>\n",
       "    <tr>\n",
       "      <th>190</th>\n",
       "      <td>Gravity</td>\n",
       "      <td>0.128836</td>\n",
       "    </tr>\n",
       "  </tbody>\n",
       "</table>\n",
       "</div>"
      ],
      "text/plain": [
       "                   Title  Similarity Score\n",
       "2023               Alien          0.141062\n",
       "2520      Silent Running          0.138600\n",
       "218   Planet of the Apes          0.137064\n",
       "1603              Aliens          0.136016\n",
       "190              Gravity          0.128836"
      ]
     },
     "execution_count": 3,
     "metadata": {},
     "output_type": "execute_result"
    }
   ],
   "source": [
    "# content-based recommendation\n",
    "# step 1: select 'genre','keywords','cast_names','crew_names' to combine as a feature.\n",
    "movies['combined_features'] = (\n",
    "    movies['genres'].fillna('') + ' ' + \n",
    "    movies['cast_names'].fillna('') + ' ' +\n",
    "    movies['keywords'].fillna('')\n",
    "     \n",
    ")\n",
    "# step 2: calculate the TF-IDF matrix\n",
    "tfidf_vectorizer = TfidfVectorizer(stop_words='english')\n",
    "tfidf_matrix = tfidf_vectorizer.fit_transform(movies['combined_features'])\n",
    "\n",
    "# step 3: calculate the similarity of cosine\n",
    "cosine_sim = cosine_similarity(tfidf_matrix, tfidf_matrix)\n",
    "\n",
    "# step 4: recommendation based on the movie title\n",
    "def recommend_movies(movie_title, num_recommendations):\n",
    "    # get the target movie index. Here it locates the first movie.\n",
    "    movie_idx = movies[movies['title'] == movie_title].index[0]\n",
    "    \n",
    "    #  get the similarity score with this movie\n",
    "    sim_scores = list(enumerate(cosine_sim[movie_idx]))\n",
    "    \n",
    "    sim_scores = sorted(sim_scores, key=lambda x: x[1], reverse=True)\n",
    "    \n",
    "    # recommendate similar movies\n",
    "    sim_scores = sim_scores[1:num_recommendations + 1]\n",
    "    movie_indices = [idx for idx, score in sim_scores]\n",
    "    suggest_idx = [score[0] for score in sim_scores]\n",
    "    suggest_score = [score[1] for score in sim_scores]\n",
    "    recommend_movies = movies.iloc[suggest_idx]['title']\n",
    "    return pd.DataFrame({'Title': recommend_movies, 'Similarity Score': suggest_score})\n",
    "\n",
    "# sample\n",
    "recommendations = recommend_movies('Avatar', 5)\n",
    "recommendations"
   ]
  },
  {
   "cell_type": "code",
   "execution_count": 4,
   "id": "1f1e8d34-afe9-47e9-a52c-4a9102724a2c",
   "metadata": {},
   "outputs": [
    {
     "data": {
      "text/html": [
       "<div>\n",
       "<style scoped>\n",
       "    .dataframe tbody tr th:only-of-type {\n",
       "        vertical-align: middle;\n",
       "    }\n",
       "\n",
       "    .dataframe tbody tr th {\n",
       "        vertical-align: top;\n",
       "    }\n",
       "\n",
       "    .dataframe thead th {\n",
       "        text-align: right;\n",
       "    }\n",
       "</style>\n",
       "<table border=\"1\" class=\"dataframe\">\n",
       "  <thead>\n",
       "    <tr style=\"text-align: right;\">\n",
       "      <th></th>\n",
       "      <th>title</th>\n",
       "      <th>vote_average</th>\n",
       "      <th>vote_count</th>\n",
       "      <th>popularity</th>\n",
       "    </tr>\n",
       "  </thead>\n",
       "  <tbody>\n",
       "    <tr>\n",
       "      <th>35</th>\n",
       "      <td>World War Z</td>\n",
       "      <td>6.7</td>\n",
       "      <td>5560</td>\n",
       "      <td>81.834855</td>\n",
       "    </tr>\n",
       "    <tr>\n",
       "      <th>1007</th>\n",
       "      <td>Resident Evil</td>\n",
       "      <td>6.4</td>\n",
       "      <td>2065</td>\n",
       "      <td>40.715623</td>\n",
       "    </tr>\n",
       "    <tr>\n",
       "      <th>113</th>\n",
       "      <td>White House Down</td>\n",
       "      <td>6.4</td>\n",
       "      <td>1891</td>\n",
       "      <td>39.004588</td>\n",
       "    </tr>\n",
       "    <tr>\n",
       "      <th>104</th>\n",
       "      <td>Thor</td>\n",
       "      <td>6.6</td>\n",
       "      <td>6525</td>\n",
       "      <td>86.493424</td>\n",
       "    </tr>\n",
       "    <tr>\n",
       "      <th>21</th>\n",
       "      <td>Skyfall</td>\n",
       "      <td>6.9</td>\n",
       "      <td>7604</td>\n",
       "      <td>93.004993</td>\n",
       "    </tr>\n",
       "  </tbody>\n",
       "</table>\n",
       "</div>"
      ],
      "text/plain": [
       "                 title  vote_average  vote_count  popularity\n",
       "35         World War Z           6.7        5560   81.834855\n",
       "1007     Resident Evil           6.4        2065   40.715623\n",
       "113   White House Down           6.4        1891   39.004588\n",
       "104               Thor           6.6        6525   86.493424\n",
       "21             Skyfall           6.9        7604   93.004993"
      ]
     },
     "execution_count": 4,
     "metadata": {},
     "output_type": "execute_result"
    }
   ],
   "source": [
    "# KNN recommendation\n",
    "\n",
    "# step 1: select features\n",
    "movie_features = movies[['vote_average', 'vote_count', 'popularity']].fillna(0)\n",
    "\n",
    "# step 2: standardize the feature\n",
    "scaler = StandardScaler()\n",
    "scaled_features = scaler.fit_transform(movie_features)\n",
    "\n",
    "# step 3: use cosine value to define the neighbours\n",
    "knn = NearestNeighbors(metric='cosine', algorithm='brute')\n",
    "knn.fit(scaled_features)\n",
    "\n",
    "# step 4 : define the function\n",
    "def knn_recommend(movie_title, n_neighbors=5):\n",
    "    movie_idx = movies[movies['title'] == movie_title].index[0]\n",
    "    distances, indices = knn.kneighbors([scaled_features[movie_idx]], n_neighbors=n_neighbors + 1)\n",
    "    recommended_movies = movies.iloc[indices[0][1:]][['title', 'vote_average', 'vote_count', 'popularity']]\n",
    "    return recommended_movies\n",
    "\n",
    "# sample\n",
    "knn_recommend('Avatar', 5)\n"
   ]
  },
  {
   "cell_type": "code",
   "execution_count": 5,
   "id": "f6e073af-4430-498c-9de4-01587255bdaa",
   "metadata": {},
   "outputs": [
    {
     "name": "stdout",
     "output_type": "stream",
     "text": [
      "Top 10 Weighted_rating:\n",
      "                        title  vote_average  vote_count  weighted_rating\n",
      "501                Fight Club           8.3        9413         8.096091\n",
      "2054             Pulp Fiction           8.3        8428         8.074926\n",
      "609              Forrest Gump           8.2        7927         7.974196\n",
      "78                  Inception           8.1       13752         7.970153\n",
      "77               Interstellar           8.1       10867         7.938750\n",
      "1281         Schindler's List           8.3        4329         7.903793\n",
      "2346                 Whiplash           8.3        4254         7.898203\n",
      "61                 Inside Out           8.0        6560         7.761565\n",
      "1538       Back to the Future           8.0        6079         7.745505\n",
      "76    Guardians of the Galaxy           7.9        9742         7.741619\n",
      "\n",
      "Top 10 Action Movies:\n",
      "                        title  vote_average  vote_count  weighted_rating\n",
      "501                Fight Club           8.3        9413         8.096091\n",
      "78                  Inception           8.1       13752         7.970153\n",
      "76    Guardians of the Galaxy           7.9        9742         7.741619\n",
      "430      Inglourious Basterds           7.9        6430         7.671603\n",
      "225          Django Unchained           7.8       10099         7.656200\n",
      "214                 Gladiator           7.9        5439         7.636786\n",
      "475       Saving Private Ryan           7.9        5048         7.619942\n",
      "2023                    Alien           7.9        4470         7.590681\n",
      "71                 Big Hero 6           7.8        6135         7.576997\n",
      "1304                 Scarface           8.0        2948         7.546795\n"
     ]
    }
   ],
   "source": [
    "# score-genres based filter\n",
    "# calculate the weighted score\n",
    "m = movies['vote_count'].quantile(0.75)  # use the 0.75 quantile as the minimum\n",
    "C = movies['vote_average'].mean()  \n",
    "\n",
    "def weighted_rating(row, m=m, C=C):\n",
    "    v = row['vote_count']\n",
    "    R = row['vote_average']\n",
    "    return (v / (v + m) * R) + (m / (v + m) * C)\n",
    "\n",
    "movies['weighted_rating'] = movies.apply(weighted_rating, axis=1)\n",
    "\n",
    "\n",
    "def get_score_based_recommendations(genre=None, data=movies, top_n=10):\n",
    "    if genre:\n",
    "        filtered_data = data[movies['genres'].str.contains(genre, case=False, na=False)]\n",
    "    else:\n",
    "        filtered_data = data\n",
    "    top_movies = filtered_data.sort_values('weighted_rating', ascending=False).head(top_n)\n",
    "    return top_movies[['title', 'vote_average', 'vote_count', 'weighted_rating']]\n",
    "\n",
    "# sample\n",
    "print(\"Top 10 Weighted_rating:\")\n",
    "print(get_score_based_recommendations())\n",
    "print(\"\\nTop 10 Action Movies:\")\n",
    "print(get_score_based_recommendations('Action'))"
   ]
  },
  {
   "cell_type": "code",
   "execution_count": 6,
   "id": "923a70db-3988-4beb-b87d-0b3d54f17c53",
   "metadata": {},
   "outputs": [
    {
     "name": "stdout",
     "output_type": "stream",
     "text": [
      "Context Recommendations (English, USA, 90-150 min, 2015):\n",
      "['Inside Out', 'The Martian', 'Spotlight', 'Avengers: Age of Ultron', 'Mad Max: Fury Road']\n"
     ]
    }
   ],
   "source": [
    "# context and weighted-rating based recommendation\n",
    "data=movies\n",
    "def context_rating_recommend(user_language=None, user_country=None, runtime_range=None, release_year=None, data=data, top_n=5):\n",
    "    filtered_data = data.copy()\n",
    "    \n",
    "    # based on language\n",
    "    if user_language:\n",
    "        filtered_data = filtered_data[filtered_data['language'].str.contains(user_language, na=False)]\n",
    "    \n",
    "    # based on production_countries\n",
    "    if user_country:\n",
    "        filtered_data = filtered_data[filtered_data['production_countries'].str.contains(user_country, na=False)]\n",
    "    \n",
    "    # based on run time\n",
    "    if runtime_range:\n",
    "        min_runtime, max_runtime = runtime_range\n",
    "        filtered_data = filtered_data[(filtered_data['runtime'] >= min_runtime) & (filtered_data['runtime'] <= max_runtime)]\n",
    "    \n",
    "    # based on release year\n",
    "    if release_year:\n",
    "        filtered_data['release_year'] = pd.to_datetime(filtered_data['release_date'], format='%m/%d/%y', errors='coerce').dt.year\n",
    "        filtered_data = filtered_data[filtered_data['release_year'] == release_year]\n",
    "    \n",
    "    # based on weighted_rating\n",
    "    return filtered_data.sort_values(by='weighted_rating', ascending=False)['title'].head(top_n).tolist()\n",
    "\n",
    "\n",
    "print(\"Context Recommendations (English, USA, 90-150 min, 2015):\")\n",
    "print(context_rating_recommend(\n",
    "    user_language='English',\n",
    "    user_country='United States of America',\n",
    "    runtime_range=(90, 150),\n",
    "    release_year=2015,\n",
    "    data=movies\n",
    "))"
   ]
  },
  {
   "cell_type": "markdown",
   "id": "ff389d99-fd47-4a1f-90a0-ea8c06d58673",
   "metadata": {},
   "source": [
    "# supervised-learning recommendation"
   ]
  },
  {
   "cell_type": "markdown",
   "id": "a5dc3758-a14f-437a-a4a6-e15d19339434",
   "metadata": {},
   "source": [
    "## use different models to predict 'vote average', then recommendate high 'vote average' movies"
   ]
  },
  {
   "cell_type": "code",
   "execution_count": 7,
   "id": "7f10f459-99bc-4959-a07b-8b39574141fc",
   "metadata": {},
   "outputs": [],
   "source": [
    "data = movies"
   ]
  },
  {
   "cell_type": "code",
   "execution_count": 8,
   "id": "544753f0-e86c-4465-b8cf-46465f48b021",
   "metadata": {},
   "outputs": [],
   "source": [
    "data['text'] = (\n",
    "    data['genres'].fillna('') + ' ' +\n",
    "    data['keywords'].fillna('') + ' ' +\n",
    "    data['cast_names'].fillna('').str.replace(',', ' ') + ' ' +\n",
    "    data['crew_names'].fillna('').str.replace(',', ' ')\n",
    ")\n",
    "data['release_year'] = pd.to_datetime(data['release_date'], format='%m/%d/%y', errors='coerce').dt.year\n",
    "x = data[['text', 'language', 'budget', 'runtime', 'popularity', 'release_year']]\n",
    "y = data['vote_average']"
   ]
  },
  {
   "cell_type": "code",
   "execution_count": 9,
   "id": "6d9ef1ca-3120-469c-a77a-4b6d40d0d4b8",
   "metadata": {},
   "outputs": [],
   "source": [
    "# data preprocess\n",
    "preprocessor = ColumnTransformer(\n",
    "    transformers=[\n",
    "        ('text', TfidfVectorizer(max_features=5000, stop_words='english'), 'text'),\n",
    "        ('cat', OneHotEncoder(handle_unknown='ignore'), ['language']),\n",
    "        ('num', StandardScaler(), ['budget', 'runtime', 'popularity', 'release_year'])\n",
    "    ])"
   ]
  },
  {
   "cell_type": "markdown",
   "id": "22127b45-c72a-4b90-8e27-d29640b0d050",
   "metadata": {},
   "source": [
    "### use linear regression"
   ]
  },
  {
   "cell_type": "code",
   "execution_count": 10,
   "id": "3689124f-a9b5-4267-8981-acee8b71bc13",
   "metadata": {},
   "outputs": [],
   "source": [
    "pipeline = Pipeline([\n",
    "    ('preprocessor', preprocessor),\n",
    "    ('regressor', LinearRegression())\n",
    "])"
   ]
  },
  {
   "cell_type": "code",
   "execution_count": 11,
   "id": "05750f06-a649-441e-82e5-f2fc87acf12b",
   "metadata": {},
   "outputs": [],
   "source": [
    "x_train, x_test, y_train, y_test = train_test_split(x, y, test_size=0.2, random_state=42)"
   ]
  },
  {
   "cell_type": "code",
   "execution_count": 12,
   "id": "a11b585b-2f31-463c-bfda-a63282bcb98c",
   "metadata": {},
   "outputs": [],
   "source": [
    "pipeline.fit(x_train, y_train)\n",
    "y_pred = pipeline.predict(x_test)"
   ]
  },
  {
   "cell_type": "code",
   "execution_count": 13,
   "id": "1ad8d8f6-02f8-4506-ae33-4cd68c7796df",
   "metadata": {},
   "outputs": [
    {
     "name": "stdout",
     "output_type": "stream",
     "text": [
      "\n",
      "Predicted rating for 'End of Watch': 7.32\n",
      "Actual rating: 7.20\n",
      "Difference: 0.12\n"
     ]
    }
   ],
   "source": [
    "sample_movie = x_test.iloc[0:1]\n",
    "sample_index = sample_movie.index[0]\n",
    "predicted_rating = pipeline.predict(sample_movie)[0]\n",
    "actual_rating = y_test.loc[sample_index]\n",
    "\n",
    "print(f\"\\nPredicted rating for '{data.loc[sample_index, 'title']}': {predicted_rating:.2f}\")\n",
    "print(f\"Actual rating: {actual_rating:.2f}\")\n",
    "print(f\"Difference: {abs(predicted_rating - actual_rating):.2f}\")"
   ]
  },
  {
   "cell_type": "code",
   "execution_count": 14,
   "id": "f9e06cde-2d9f-4526-a782-47da8aedf116",
   "metadata": {},
   "outputs": [
    {
     "name": "stdout",
     "output_type": "stream",
     "text": [
      "Mean Squared Error (Linear Regression): 0.6503718206749078\n"
     ]
    }
   ],
   "source": [
    "mse = mean_squared_error(y_test, y_pred)\n",
    "print(f\"Mean Squared Error (Linear Regression): {mse}\")"
   ]
  },
  {
   "cell_type": "markdown",
   "id": "23d3eaac-b793-4d66-944a-282471564c83",
   "metadata": {},
   "source": [
    "### use random forest"
   ]
  },
  {
   "cell_type": "code",
   "execution_count": 15,
   "id": "b1670b03-82c9-4f79-907d-9a32210e2bb2",
   "metadata": {},
   "outputs": [],
   "source": [
    "pipeline_rf = Pipeline([\n",
    "    ('preprocessor', preprocessor),\n",
    "    ('regress', RandomForestRegressor(n_estimators=100, random_state=42))\n",
    "])\n",
    "\n",
    "pipeline_rf.fit(x_train, y_train)\n",
    "y_pred_rf = pipeline_rf.predict(x_test)\n",
    "\n",
    "mse_rf = mean_squared_error(y_test, y_pred_rf)"
   ]
  },
  {
   "cell_type": "code",
   "execution_count": 16,
   "id": "12569c25-ecd1-4bec-b108-002f3da227cc",
   "metadata": {},
   "outputs": [
    {
     "name": "stdout",
     "output_type": "stream",
     "text": [
      "\n",
      "Predicted rating for 'End of Watch': 7.02\n",
      "Actual rating: 7.20\n",
      "Difference: 0.18\n"
     ]
    }
   ],
   "source": [
    "sample_movie = x_test.iloc[0:1]\n",
    "sample_index = sample_movie.index[0]\n",
    "predicted_rating_rf = pipeline_rf.predict(sample_movie)[0]\n",
    "actual_rating = y_test.loc[sample_index]\n",
    "\n",
    "print(f\"\\nPredicted rating for '{data.loc[sample_index, 'title']}': {predicted_rating_rf:.2f}\")\n",
    "print(f\"Actual rating: {actual_rating:.2f}\")\n",
    "print(f\"Difference: {abs(predicted_rating_rf - actual_rating):.2f}\")"
   ]
  },
  {
   "cell_type": "code",
   "execution_count": 17,
   "id": "b80d3114-3ddc-4930-b55c-ebf3834403fa",
   "metadata": {},
   "outputs": [
    {
     "name": "stdout",
     "output_type": "stream",
     "text": [
      "\n",
      "Random Forest Regression Metrics:\n",
      "MSE: 0.3990\n"
     ]
    }
   ],
   "source": [
    "print(\"\\nRandom Forest Regression Metrics:\")\n",
    "print(f\"MSE: {mse_rf:.4f}\")"
   ]
  },
  {
   "cell_type": "markdown",
   "id": "8071e9e3-3404-4f50-b8c6-f246aee76d79",
   "metadata": {},
   "source": [
    "### use Gradient Boosting Regression"
   ]
  },
  {
   "cell_type": "code",
   "execution_count": 18,
   "id": "b54c3783-4dd6-4a20-8f3c-5bad760c4baa",
   "metadata": {},
   "outputs": [],
   "source": [
    "pipeline_gb = Pipeline([\n",
    "    ('preprocessor', preprocessor),\n",
    "    ('regress', GradientBoostingRegressor(n_estimators=100, random_state=42))\n",
    "])\n",
    "\n",
    "pipeline_gb.fit(x_train, y_train)\n",
    "y_pred_gb = pipeline_gb.predict(x_test)\n",
    "\n",
    "mse_gb = mean_squared_error(y_test, y_pred_gb)"
   ]
  },
  {
   "cell_type": "code",
   "execution_count": 19,
   "id": "f5fdbf5c-8193-4f77-8480-62bb272a76fd",
   "metadata": {},
   "outputs": [
    {
     "name": "stdout",
     "output_type": "stream",
     "text": [
      "\n",
      "Predicted rating for 'End of Watch': 7.21\n",
      "Actual rating: 7.20\n",
      "Difference: 0.01\n"
     ]
    }
   ],
   "source": [
    "sample_movie = x_test.iloc[0:1]\n",
    "sample_index = sample_movie.index[0]\n",
    "predicted_rating_gb = pipeline_gb.predict(sample_movie)[0]\n",
    "actual_rating = y_test.loc[sample_index]\n",
    "\n",
    "print(f\"\\nPredicted rating for '{data.loc[sample_index, 'title']}': {predicted_rating_gb:.2f}\")\n",
    "print(f\"Actual rating: {actual_rating:.2f}\")\n",
    "print(f\"Difference: {abs(predicted_rating_gb - actual_rating):.2f}\")"
   ]
  },
  {
   "cell_type": "code",
   "execution_count": 20,
   "id": "25992256-0bab-42d1-b6e7-e30591f73c42",
   "metadata": {},
   "outputs": [
    {
     "name": "stdout",
     "output_type": "stream",
     "text": [
      "\n",
      "Gradient Boosting Regression Metrics:\n",
      "MSE: 0.3873\n"
     ]
    }
   ],
   "source": [
    "print(\"\\nGradient Boosting Regression Metrics:\")\n",
    "print(f\"MSE: {mse_gb:.4f}\")"
   ]
  },
  {
   "cell_type": "markdown",
   "id": "50d701b8-ac9e-489b-892c-b2ccf2151676",
   "metadata": {},
   "source": [
    "## establish user_likes content to recommend"
   ]
  },
  {
   "cell_type": "code",
   "execution_count": 21,
   "id": "35d808e9-136f-4aaa-af30-2b2a47b598c8",
   "metadata": {},
   "outputs": [
    {
     "name": "stdout",
     "output_type": "stream",
     "text": [
      "[0.68 0.01 0.09 ... 0.   0.01 0.05]\n",
      "Top 5 Recommended Movies for User (Action/Adventure): ['Back to the Future Part III', 'Monsters, Inc.', 'Harry Potter and the Half-Blood Prince', 'Harry Potter and the Goblet of Fire', 'Harry Potter and the Order of the Phoenix']\n"
     ]
    }
   ],
   "source": [
    "# establish a new column, if user like action or adventure movies, and the vote_average is higher than 7, then user likes it.\n",
    "data['user_likes'] = ((data['genres'].str.contains('Action|Adventure', na=False)) & (data['vote_average'] > 7)).astype(int)\n",
    "y_user = data['user_likes']\n",
    "x_train_user, x_test_user, y_train_user, y_test_user = train_test_split(x, y_user, test_size=0.2, random_state=42)\n",
    "\n",
    "\n",
    "pipeline_user = Pipeline([\n",
    "    ('preprocessor', preprocessor),\n",
    "    ('classifier', RandomForestClassifier(n_estimators=100, random_state=42))\n",
    "])\n",
    "\n",
    "pipeline_user.fit(x_train_user, y_train_user)\n",
    "like_probabilities = pipeline_user.predict_proba(x)[:, 1]\n",
    "recommendations = data.iloc[like_probabilities.argsort()[::-1][:5]]['title'].tolist()\n",
    "print(like_probabilities)\n",
    "print(\"Top 5 Recommended Movies for User (Action/Adventure):\", recommendations)"
   ]
  },
  {
   "cell_type": "code",
   "execution_count": 23,
   "id": "f17f9a27-792d-4283-ab82-0fe79e51ebee",
   "metadata": {},
   "outputs": [
    {
     "name": "stdout",
     "output_type": "stream",
     "text": [
      "Random Forest Classification Report:\n",
      "              precision    recall  f1-score   support\n",
      "\n",
      "           0       0.94      1.00      0.97       497\n",
      "           1       0.00      0.00      0.00        33\n",
      "\n",
      "    accuracy                           0.94       530\n",
      "   macro avg       0.47      0.50      0.48       530\n",
      "weighted avg       0.88      0.94      0.91       530\n",
      "\n"
     ]
    },
    {
     "name": "stderr",
     "output_type": "stream",
     "text": [
      "/Library/Frameworks/Python.framework/Versions/3.12/lib/python3.12/site-packages/sklearn/metrics/_classification.py:1565: UndefinedMetricWarning: Precision is ill-defined and being set to 0.0 in labels with no predicted samples. Use `zero_division` parameter to control this behavior.\n",
      "  _warn_prf(average, modifier, f\"{metric.capitalize()} is\", len(result))\n",
      "/Library/Frameworks/Python.framework/Versions/3.12/lib/python3.12/site-packages/sklearn/metrics/_classification.py:1565: UndefinedMetricWarning: Precision is ill-defined and being set to 0.0 in labels with no predicted samples. Use `zero_division` parameter to control this behavior.\n",
      "  _warn_prf(average, modifier, f\"{metric.capitalize()} is\", len(result))\n",
      "/Library/Frameworks/Python.framework/Versions/3.12/lib/python3.12/site-packages/sklearn/metrics/_classification.py:1565: UndefinedMetricWarning: Precision is ill-defined and being set to 0.0 in labels with no predicted samples. Use `zero_division` parameter to control this behavior.\n",
      "  _warn_prf(average, modifier, f\"{metric.capitalize()} is\", len(result))\n"
     ]
    }
   ],
   "source": [
    "y_pred_user = pipeline_user.predict(x_test_user)\n",
    "print(\"Random Forest Classification Report:\")\n",
    "print(classification_report(y_test_user, y_pred_user))"
   ]
  },
  {
   "cell_type": "code",
   "execution_count": null,
   "id": "c152c7fc-19b7-4ba6-b581-489fc14b6bad",
   "metadata": {},
   "outputs": [],
   "source": []
  },
  {
   "cell_type": "code",
   "execution_count": null,
   "id": "aac9d5b8-1e94-4b72-8e8a-48fa78f34131",
   "metadata": {},
   "outputs": [],
   "source": []
  }
 ],
 "metadata": {
  "kernelspec": {
   "display_name": "Python 3 (ipykernel)",
   "language": "python",
   "name": "python3"
  },
  "language_info": {
   "codemirror_mode": {
    "name": "ipython",
    "version": 3
   },
   "file_extension": ".py",
   "mimetype": "text/x-python",
   "name": "python",
   "nbconvert_exporter": "python",
   "pygments_lexer": "ipython3",
   "version": "3.12.8"
  }
 },
 "nbformat": 4,
 "nbformat_minor": 5
}
